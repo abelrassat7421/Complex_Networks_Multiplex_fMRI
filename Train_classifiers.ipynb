{
 "cells": [
  {
   "cell_type": "code",
   "execution_count": 2,
   "metadata": {},
   "outputs": [],
   "source": [
    "import numpy as np\n",
    "import matplotlib.pyplot as plt\n",
    "from nilearn import datasets\n",
    "from nilearn import connectome\n",
    "from nilearn import plotting\n",
    "import seaborn as sns\n",
    "from tqdm.notebook import tqdm\n",
    "from sklearn.model_selection import train_test_split\n",
    "import json\n",
    "from datetime import datetime\n",
    "\n",
    "import utils as ut \n",
    "from scipy import stats\n",
    "from sklearn.ensemble import RandomForestClassifier\n",
    "# SVM classifier\n",
    "from sklearn import svm\n",
    "from sklearn.model_selection import cross_val_score\n",
    "from sklearn.model_selection import KFold\n",
    "from sklearn.metrics import confusion_matrix\n",
    "\n",
    "atlas = datasets.fetch_atlas_msdl()\n",
    "atlas_filename = atlas[\"maps\"]\n",
    "labels = atlas[\"labels\"]\n",
    "num_ROIs = len(labels)\n",
    "\n",
    "%matplotlib inline"
   ]
  },
  {
   "cell_type": "code",
   "execution_count": null,
   "metadata": {},
   "outputs": [],
   "source": [
    "# if correlation matrice not yet computed\n",
    "data_path = \"/Users/abelrassat/Desktop/NSC/Complex_Networks_Theory_and_Application/Project/\" # change to your path where to save the fMRI data\n",
    "site_ids = [\"NYU\"]\n",
    "age_range = (0, 100)\n",
    "save_name = \"NYU_0-100\"\n",
    "# may need to run this cell several times to resume downloading if connection is lost\n",
    "ut.fmri_data_preparation(data_path, site_ids, age_range, proportional_threshold=0.3, verbose=True, save_name=save_name)"
   ]
  },
  {
   "cell_type": "code",
   "execution_count": 3,
   "metadata": {},
   "outputs": [],
   "source": [
    "# load data\n",
    "X = np.load(\"X_NYU_0-100.npy\")\n",
    "y = np.load(\"y_NYU_0-100.npy\")"
   ]
  },
  {
   "cell_type": "code",
   "execution_count": 4,
   "metadata": {},
   "outputs": [
    {
     "data": {
      "application/vnd.jupyter.widget-view+json": {
       "model_id": "d9d05bc1dad44b6a98990f22dbca6886",
       "version_major": 2,
       "version_minor": 0
      },
      "text/plain": [
       "Independent centrality measures:   0%|          | 0/172 [00:00<?, ?it/s]"
      ]
     },
     "metadata": {},
     "output_type": "display_data"
    },
    {
     "name": "stderr",
     "output_type": "stream",
     "text": [
      "/Users/abelrassat/opt/anaconda3/envs/cn_final_proj/lib/python3.11/site-packages/numpy/core/_methods.py:49: RuntimeWarning: overflow encountered in reduce\n",
      "  return umr_sum(a, axis, dtype, out, keepdims, initial, where)\n",
      "/Users/abelrassat/opt/anaconda3/envs/cn_final_proj/lib/python3.11/site-packages/networkx/algorithms/link_analysis/pagerank_alg.py:496: RuntimeWarning: invalid value encountered in subtract\n",
      "  err = np.absolute(x - xlast).sum()\n"
     ]
    },
    {
     "name": "stdout",
     "output_type": "stream",
     "text": [
      "Subjects for which Page Rank did not converge: [159] \n",
      " Delete them manually from the dataset.\n"
     ]
    }
   ],
   "source": [
    "# compute independent pagerank in advance for all subjects to save time\n",
    "r_pagerank = 0.85\n",
    "Z_indep, y, not_converged = ut.independent_pagerank(X, y, num_ROIs, labels, r_pagerank=r_pagerank, save_name=\"Z_indep_NYUf.npy\", show_best_features=False)"
   ]
  },
  {
   "cell_type": "code",
   "execution_count": 5,
   "metadata": {},
   "outputs": [
    {
     "name": "stdout",
     "output_type": "stream",
     "text": [
      "Number of ASD subjects:  74\n",
      "Number of TD subjects:  97\n"
     ]
    }
   ],
   "source": [
    "# For now remove the not converged subjects\n",
    "X = np.delete(X, not_converged, axis=0)\n",
    "X_ASD = X[y==1]\n",
    "X_TD = X[y==0]\n",
    "print(\"Number of ASD subjects: \", X_ASD.shape[0])\n",
    "print(\"Number of TD subjects: \", X_TD.shape[0])"
   ]
  },
  {
   "cell_type": "code",
   "execution_count": 6,
   "metadata": {},
   "outputs": [
    {
     "name": "stdout",
     "output_type": "stream",
     "text": [
      "(171, 39, 39) (171,)\n"
     ]
    },
    {
     "data": {
      "application/vnd.jupyter.widget-view+json": {
       "model_id": "c029b4d0c0d44787841678c6e7c1a61f",
       "version_major": 2,
       "version_minor": 0
      },
      "text/plain": [
       "Cross-validation:   0%|          | 0/10 [00:00<?, ?it/s]"
      ]
     },
     "metadata": {},
     "output_type": "display_data"
    },
    {
     "data": {
      "application/vnd.jupyter.widget-view+json": {
       "model_id": "11be1549c9b044b28fb8314a7e32d6bd",
       "version_major": 2,
       "version_minor": 0
      },
      "text/plain": [
       "Building supra-adjacency matrix:   0%|          | 0/67 [00:00<?, ?it/s]"
      ]
     },
     "metadata": {},
     "output_type": "display_data"
    },
    {
     "name": "stdout",
     "output_type": "stream",
     "text": [
      "Negative entries of leading eigenvector\n"
     ]
    },
    {
     "data": {
      "application/vnd.jupyter.widget-view+json": {
       "model_id": "c9f9304504a44aaab90482bebbbf5ac4",
       "version_major": 2,
       "version_minor": 0
      },
      "text/plain": [
       "Building supra-adjacency matrix:   0%|          | 0/67 [00:00<?, ?it/s]"
      ]
     },
     "metadata": {},
     "output_type": "display_data"
    },
    {
     "name": "stdout",
     "output_type": "stream",
     "text": [
      "Scores up to now: \n",
      " Multiplex: [0.61111111] \n",
      " Running mean 0.6111111111111112 \n",
      " Independent: [0.5] \n",
      " Running mean 0.5\n"
     ]
    },
    {
     "data": {
      "application/vnd.jupyter.widget-view+json": {
       "model_id": "75bcf22174c54082a0c39206a465bdeb",
       "version_major": 2,
       "version_minor": 0
      },
      "text/plain": [
       "Building supra-adjacency matrix:   0%|          | 0/64 [00:00<?, ?it/s]"
      ]
     },
     "metadata": {},
     "output_type": "display_data"
    },
    {
     "data": {
      "application/vnd.jupyter.widget-view+json": {
       "model_id": "34a2913294a34f6990d95a4bea4cc370",
       "version_major": 2,
       "version_minor": 0
      },
      "text/plain": [
       "Building supra-adjacency matrix:   0%|          | 0/64 [00:00<?, ?it/s]"
      ]
     },
     "metadata": {},
     "output_type": "display_data"
    },
    {
     "name": "stdout",
     "output_type": "stream",
     "text": [
      "Scores up to now: \n",
      " Multiplex: [0.61111111 0.52941176] \n",
      " Running mean 0.5702614379084967 \n",
      " Independent: [0.5        0.58823529] \n",
      " Running mean 0.5441176470588236\n"
     ]
    },
    {
     "data": {
      "application/vnd.jupyter.widget-view+json": {
       "model_id": "1f6c049b79e34d3aaa4f6e146ac3745d",
       "version_major": 2,
       "version_minor": 0
      },
      "text/plain": [
       "Building supra-adjacency matrix:   0%|          | 0/69 [00:00<?, ?it/s]"
      ]
     },
     "metadata": {},
     "output_type": "display_data"
    },
    {
     "data": {
      "application/vnd.jupyter.widget-view+json": {
       "model_id": "77ff4f99f1f14b79b77e535d2a0c9f77",
       "version_major": 2,
       "version_minor": 0
      },
      "text/plain": [
       "Building supra-adjacency matrix:   0%|          | 0/69 [00:00<?, ?it/s]"
      ]
     },
     "metadata": {},
     "output_type": "display_data"
    },
    {
     "name": "stdout",
     "output_type": "stream",
     "text": [
      "Scores up to now: \n",
      " Multiplex: [0.61111111 0.52941176 0.58823529] \n",
      " Running mean 0.5762527233115469 \n",
      " Independent: [0.5        0.58823529 0.35294118] \n",
      " Running mean 0.48039215686274517\n"
     ]
    },
    {
     "data": {
      "application/vnd.jupyter.widget-view+json": {
       "model_id": "81bce11e04f94898a16721b48c94a295",
       "version_major": 2,
       "version_minor": 0
      },
      "text/plain": [
       "Building supra-adjacency matrix:   0%|          | 0/68 [00:00<?, ?it/s]"
      ]
     },
     "metadata": {},
     "output_type": "display_data"
    },
    {
     "data": {
      "application/vnd.jupyter.widget-view+json": {
       "model_id": "e81897b440a143a297dc4deb040a1500",
       "version_major": 2,
       "version_minor": 0
      },
      "text/plain": [
       "Building supra-adjacency matrix:   0%|          | 0/68 [00:00<?, ?it/s]"
      ]
     },
     "metadata": {},
     "output_type": "display_data"
    },
    {
     "name": "stdout",
     "output_type": "stream",
     "text": [
      "Scores up to now: \n",
      " Multiplex: [0.61111111 0.52941176 0.58823529 0.76470588] \n",
      " Running mean 0.6233660130718954 \n",
      " Independent: [0.5        0.58823529 0.35294118 0.88235294] \n",
      " Running mean 0.5808823529411765\n"
     ]
    },
    {
     "data": {
      "application/vnd.jupyter.widget-view+json": {
       "model_id": "5451af97e0fc4f5ebde4b9f0cb64393f",
       "version_major": 2,
       "version_minor": 0
      },
      "text/plain": [
       "Building supra-adjacency matrix:   0%|          | 0/68 [00:00<?, ?it/s]"
      ]
     },
     "metadata": {},
     "output_type": "display_data"
    },
    {
     "data": {
      "application/vnd.jupyter.widget-view+json": {
       "model_id": "acf2913a0eb24fcd86f78b89fadc4348",
       "version_major": 2,
       "version_minor": 0
      },
      "text/plain": [
       "Building supra-adjacency matrix:   0%|          | 0/68 [00:00<?, ?it/s]"
      ]
     },
     "metadata": {},
     "output_type": "display_data"
    },
    {
     "name": "stdout",
     "output_type": "stream",
     "text": [
      "Scores up to now: \n",
      " Multiplex: [0.61111111 0.52941176 0.58823529 0.76470588 0.70588235] \n",
      " Running mean 0.6398692810457517 \n",
      " Independent: [0.5        0.58823529 0.35294118 0.88235294 0.64705882] \n",
      " Running mean 0.5941176470588235\n"
     ]
    },
    {
     "data": {
      "application/vnd.jupyter.widget-view+json": {
       "model_id": "a24d8fbaf34e47cfab4467acb0d97b96",
       "version_major": 2,
       "version_minor": 0
      },
      "text/plain": [
       "Building supra-adjacency matrix:   0%|          | 0/65 [00:00<?, ?it/s]"
      ]
     },
     "metadata": {},
     "output_type": "display_data"
    },
    {
     "name": "stdout",
     "output_type": "stream",
     "text": [
      "Negative entries of leading eigenvector\n"
     ]
    },
    {
     "data": {
      "application/vnd.jupyter.widget-view+json": {
       "model_id": "a55aa4af72cc4aa7929aab352eb24240",
       "version_major": 2,
       "version_minor": 0
      },
      "text/plain": [
       "Building supra-adjacency matrix:   0%|          | 0/65 [00:00<?, ?it/s]"
      ]
     },
     "metadata": {},
     "output_type": "display_data"
    },
    {
     "name": "stdout",
     "output_type": "stream",
     "text": [
      "Scores up to now: \n",
      " Multiplex: [0.61111111 0.52941176 0.58823529 0.76470588 0.70588235 0.58823529] \n",
      " Running mean 0.6312636165577342 \n",
      " Independent: [0.5        0.58823529 0.35294118 0.88235294 0.64705882 0.41176471] \n",
      " Running mean 0.5637254901960784\n"
     ]
    },
    {
     "data": {
      "application/vnd.jupyter.widget-view+json": {
       "model_id": "cc0e3c2a87a44c50931b5fb4e27aec53",
       "version_major": 2,
       "version_minor": 0
      },
      "text/plain": [
       "Building supra-adjacency matrix:   0%|          | 0/66 [00:00<?, ?it/s]"
      ]
     },
     "metadata": {},
     "output_type": "display_data"
    },
    {
     "data": {
      "application/vnd.jupyter.widget-view+json": {
       "model_id": "0e1422f2d7a4464bb8165949a9dac80e",
       "version_major": 2,
       "version_minor": 0
      },
      "text/plain": [
       "Building supra-adjacency matrix:   0%|          | 0/66 [00:00<?, ?it/s]"
      ]
     },
     "metadata": {},
     "output_type": "display_data"
    },
    {
     "name": "stdout",
     "output_type": "stream",
     "text": [
      "Negative entries of leading eigenvector\n",
      "Scores up to now: \n",
      " Multiplex: [0.61111111 0.52941176 0.58823529 0.76470588 0.70588235 0.58823529\n",
      " 0.88235294] \n",
      " Running mean 0.6671335200746966 \n",
      " Independent: [0.5        0.58823529 0.35294118 0.88235294 0.64705882 0.41176471\n",
      " 0.52941176] \n",
      " Running mean 0.5588235294117647\n"
     ]
    },
    {
     "data": {
      "application/vnd.jupyter.widget-view+json": {
       "model_id": "fe251e4d313b4570ac6e0805cde1cda9",
       "version_major": 2,
       "version_minor": 0
      },
      "text/plain": [
       "Building supra-adjacency matrix:   0%|          | 0/65 [00:00<?, ?it/s]"
      ]
     },
     "metadata": {},
     "output_type": "display_data"
    },
    {
     "name": "stdout",
     "output_type": "stream",
     "text": [
      "Negative entries of leading eigenvector\n"
     ]
    },
    {
     "data": {
      "application/vnd.jupyter.widget-view+json": {
       "model_id": "86fde75f35af40729a57527d7ad9ea63",
       "version_major": 2,
       "version_minor": 0
      },
      "text/plain": [
       "Building supra-adjacency matrix:   0%|          | 0/65 [00:00<?, ?it/s]"
      ]
     },
     "metadata": {},
     "output_type": "display_data"
    },
    {
     "name": "stdout",
     "output_type": "stream",
     "text": [
      "Scores up to now: \n",
      " Multiplex: [0.61111111 0.52941176 0.58823529 0.76470588 0.70588235 0.58823529\n",
      " 0.88235294 0.35294118] \n",
      " Running mean 0.627859477124183 \n",
      " Independent: [0.5        0.58823529 0.35294118 0.88235294 0.64705882 0.41176471\n",
      " 0.52941176 0.52941176] \n",
      " Running mean 0.5551470588235294\n"
     ]
    },
    {
     "data": {
      "application/vnd.jupyter.widget-view+json": {
       "model_id": "8ef57d2734df4802866907ef76510514",
       "version_major": 2,
       "version_minor": 0
      },
      "text/plain": [
       "Building supra-adjacency matrix:   0%|          | 0/69 [00:00<?, ?it/s]"
      ]
     },
     "metadata": {},
     "output_type": "display_data"
    },
    {
     "data": {
      "application/vnd.jupyter.widget-view+json": {
       "model_id": "dcb14147abd3486db2858916a1ac0662",
       "version_major": 2,
       "version_minor": 0
      },
      "text/plain": [
       "Building supra-adjacency matrix:   0%|          | 0/69 [00:00<?, ?it/s]"
      ]
     },
     "metadata": {},
     "output_type": "display_data"
    },
    {
     "name": "stdout",
     "output_type": "stream",
     "text": [
      "Negative entries of leading eigenvector\n",
      "Scores up to now: \n",
      " Multiplex: [0.61111111 0.52941176 0.58823529 0.76470588 0.70588235 0.58823529\n",
      " 0.88235294 0.35294118 0.52941176] \n",
      " Running mean 0.6169208424110385 \n",
      " Independent: [0.5        0.58823529 0.35294118 0.88235294 0.64705882 0.41176471\n",
      " 0.52941176 0.52941176 0.64705882] \n",
      " Running mean 0.5653594771241831\n"
     ]
    },
    {
     "data": {
      "application/vnd.jupyter.widget-view+json": {
       "model_id": "a64a6fa49f4545e884c46f31e4520f6d",
       "version_major": 2,
       "version_minor": 0
      },
      "text/plain": [
       "Building supra-adjacency matrix:   0%|          | 0/65 [00:00<?, ?it/s]"
      ]
     },
     "metadata": {},
     "output_type": "display_data"
    },
    {
     "name": "stdout",
     "output_type": "stream",
     "text": [
      "Negative entries of leading eigenvector\n"
     ]
    },
    {
     "data": {
      "application/vnd.jupyter.widget-view+json": {
       "model_id": "2093fe1d00954679be2a0beb868843a1",
       "version_major": 2,
       "version_minor": 0
      },
      "text/plain": [
       "Building supra-adjacency matrix:   0%|          | 0/65 [00:00<?, ?it/s]"
      ]
     },
     "metadata": {},
     "output_type": "display_data"
    },
    {
     "name": "stdout",
     "output_type": "stream",
     "text": [
      "Scores up to now: \n",
      " Multiplex: [0.61111111 0.52941176 0.58823529 0.76470588 0.70588235 0.58823529\n",
      " 0.88235294 0.35294118 0.52941176 0.64705882] \n",
      " Running mean 0.6199346405228758 \n",
      " Independent: [0.5        0.58823529 0.35294118 0.88235294 0.64705882 0.41176471\n",
      " 0.52941176 0.52941176 0.64705882 0.35294118] \n",
      " Running mean 0.5441176470588236\n",
      "Mean Accuracy: \n",
      " Multiplex: 0.6199346405228758 \n",
      " Independent: 0.5441176470588236\n"
     ]
    }
   ],
   "source": [
    "# hyperparameters\n",
    "n_splits = 10\n",
    "inter_layer_edges_weight = 0.3\n",
    "interconnection_per_layer_pair = 20\n",
    "r_pagerank = 0.85\n",
    "num_features = 30\n",
    "\n",
    "seed = 0 # for reproducibility\n",
    "\n",
    "print(X.shape, y.shape)\n",
    "\n",
    "# Initialize StratifiedKFold with the same splits for both representations\n",
    "kfold = KFold(n_splits=n_splits, shuffle=True, random_state=seed)\n",
    "\n",
    "scores_mult = np.empty([0], dtype=float)\n",
    "scores_indep = np.empty([0], dtype=float)\n",
    "actual_labels = np.empty([0], dtype=int)\n",
    "predicted_labels_mult = np.empty([0], dtype=int)\n",
    "predicted_labels_indep = np.empty([0], dtype=int)\n",
    "p_values_mult = np.empty([0], dtype=float)\n",
    "p_values_indep = np.empty([0], dtype=float)\n",
    "\n",
    "# Perform leave-one-out cross-validation\n",
    "for train_index, test_index in tqdm(kfold.split(X, y), desc=\"Cross-validation\", total=kfold.get_n_splits()):\n",
    "    # compute the representation on the training set\n",
    "    X_train = X[train_index]\n",
    "    Z_train_indep, Z_test = Z_indep[train_index], Z_indep[test_index]\n",
    "    y_train, y_test = y[train_index], y[test_index]\n",
    "    X_train_ASD, X_train_TC = X_train[np.where(y_train == 1)], X_train[np.where(y_train == 0)]\n",
    "    X_train_TC = X_train_TC[:X_train_ASD.shape[0]] # if want to have equal number of patients and controls\n",
    "\n",
    "    # method 1: compute the representation on the training set with multiplex networks\n",
    "    ut.multiplex_pagerank(X_train_ASD, num_ROIs, labels, inter_layer_edges_weight=inter_layer_edges_weight, interconnection_per_layer_pair=interconnection_per_layer_pair, save_name_pagerank=\"Z_multiplex_ASD_NYU_kf_final.npy\", show_best_features=False)\n",
    "    ut.multiplex_pagerank(X_train_TC, num_ROIs, labels, inter_layer_edges_weight=inter_layer_edges_weight, interconnection_per_layer_pair=interconnection_per_layer_pair, save_name_pagerank=\"Z_multiplex_TC_NYU_kf_final.npy\", show_best_features=False)\n",
    "    \n",
    "\n",
    "    # separate the representations for the two groups to find best features\n",
    "    Z_train_ASD_mult = np.load(\"Z_multiplex_ASD_NYU_kf_final.npy\")\n",
    "    Z_train_TC_mult = np.load(\"Z_multiplex_TC_NYU_kf_final.npy\")\n",
    "    Z_train_indep = Z_indep[train_index]\n",
    "    Z_train_ASD_indep = Z_train_indep[np.where(y_train == 1)]\n",
    "    Z_train_TC_indep = Z_train_indep[np.where(y_train == 0)]\n",
    "    \n",
    "\n",
    "    # select best features for each representation and normalize the data\n",
    "    Z_train_ASD_mult, Z_train_TC_mult, Z_test_mult, pval_mult = ut.feature_processing(Z_train_ASD_mult, Z_train_TC_mult, Z_test, num_ROIs, labels, num_features, show_best_features=False, independent=False)\n",
    "    Z_train_ASD_indep, Z_train_TC_indep, Z_test_indep, pval_indep = ut.feature_processing(Z_train_ASD_indep, Z_train_TC_indep, Z_test, num_ROIs, labels, num_features, show_best_features=False, independent=True)                                                                 \n",
    "\n",
    "    Z_train_mult = np.concatenate((Z_train_ASD_mult, Z_train_TC_mult), axis=0)\n",
    "    Z_train_indep = np.concatenate((Z_train_ASD_indep, Z_train_TC_indep), axis=0)\n",
    "    y_train_sep_mult = np.concatenate((np.ones(Z_train_ASD_mult.shape[0]), np.zeros(Z_train_TC_mult.shape[0])), axis=0)\n",
    "    y_train_sep_indep = np.concatenate((np.ones(Z_train_ASD_indep.shape[0]), np.zeros(Z_train_TC_indep.shape[0])), axis=0)\n",
    "    \n",
    "\n",
    "    # 1. Train and evaluate the classifier on the multiplex representation\n",
    "    classifier_mult = svm.SVC(kernel='rbf', C=50, probability=True, random_state=seed)\n",
    "    classifier_mult.fit(Z_train_mult, y_train_sep_mult)\n",
    "    score_mult = classifier_mult.score(Z_test_mult, y_test)\n",
    "    scores_mult = np.append(scores_mult, score_mult)\n",
    "\n",
    "    # 2. Train and evaluate the classifier on the independent networks representation\n",
    "    classifier_indep = svm.SVC(kernel='rbf', C=10, probability=True, random_state=seed)\n",
    "    classifier_indep.fit(Z_train_indep, y_train_sep_indep)\n",
    "    score_indep = classifier_indep.score(Z_test_indep, y_test)\n",
    "    scores_indep = np.append(scores_indep, score_indep)\n",
    "\n",
    "    actual_labels = np.append(actual_labels, y_test)\n",
    "    predicted_labels_mult = np.append(predicted_labels_mult, classifier_mult.predict(Z_test_mult))\n",
    "    predicted_labels_indep = np.append(predicted_labels_indep, classifier_indep.predict(Z_test_indep))\n",
    "    p_values_mult = np.append(p_values_mult, pval_mult)\n",
    "    p_values_indep = np.append(p_values_indep, pval_indep)\n",
    "\n",
    "    # Visualisation options\n",
    "    # ut.debug_tool_plot_2d(Z_train_mult, y_train_sep_mult, Z_test_mult, y_test)\n",
    "    # ut.debug_tool_plot_2d(Z_train_indep, y_train_sep_indep, Z_test_indep, y_test)\n",
    "    # ut.predict_proba(classifier_mult, Z_test_mult, y_test, show_plot=True)\n",
    "    # ut.predict_proba(classifier_indep, Z_test_indep, y_test, show_plot=True)\n",
    "\n",
    "    print(f\"Scores up to now: \\n Multiplex: {scores_mult} \\n Running mean {np.mean(scores_mult)} \\n Independent: {scores_indep} \\n Running mean {np.mean(scores_indep)}\")\n",
    "\n",
    "# Print the mean accuracy for each representation\n",
    "print(f\"Mean Accuracy: \\n Multiplex: {np.mean(scores_mult)} \\n Independent: {np.mean(scores_indep)}\")"
   ]
  },
  {
   "cell_type": "code",
   "execution_count": 11,
   "metadata": {},
   "outputs": [],
   "source": [
    "# Save confusion matrices\n",
    "conf_matrix_mult = confusion_matrix(actual_labels, predicted_labels_mult)\n",
    "conf_matrix_indep = confusion_matrix(actual_labels, predicted_labels_indep)"
   ]
  },
  {
   "cell_type": "code",
   "execution_count": 9,
   "metadata": {},
   "outputs": [
    {
     "name": "stdout",
     "output_type": "stream",
     "text": [
      "Results_30_features_20240128_201902.json\n"
     ]
    }
   ],
   "source": [
    "dict = {'scores_mult': scores_mult.tolist(), 'scores_indep': scores_indep.tolist(), 'p_values_mult': p_values_mult.tolist(), 'p_values_indep': p_values_indep.tolist(), \"conf_matrix_mult\": conf_matrix_mult.tolist(), \"conf_matrix_indep\": conf_matrix_indep.tolist()}\n",
    "\n",
    "# Get the current date and time\n",
    "timestamp = datetime.now().strftime(\"%Y%m%d_%H%M%S\")\n",
    "\n",
    "# Specify the file path\n",
    "file_path = f'Results_{num_features}_features_{timestamp}.json'\n",
    "print(file_path)\n",
    "\n",
    "# Save the dictionary as a JSON file\n",
    "with open(file_path, 'w') as json_file:\n",
    "    json.dump(dict, json_file)"
   ]
  }
 ],
 "metadata": {
  "kernelspec": {
   "display_name": "cn_final_proj",
   "language": "python",
   "name": "python3"
  },
  "language_info": {
   "codemirror_mode": {
    "name": "ipython",
    "version": 3
   },
   "file_extension": ".py",
   "mimetype": "text/x-python",
   "name": "python",
   "nbconvert_exporter": "python",
   "pygments_lexer": "ipython3",
   "version": "3.11.5"
  }
 },
 "nbformat": 4,
 "nbformat_minor": 2
}
